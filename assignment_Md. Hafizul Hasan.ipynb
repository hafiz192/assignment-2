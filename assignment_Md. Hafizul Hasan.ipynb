{
 "cells": [
  {
   "cell_type": "code",
   "execution_count": 1,
   "metadata": {},
   "outputs": [
    {
     "name": "stdout",
     "output_type": "stream",
     "text": [
      "hafizul hasan\n",
      "haan\n"
     ]
    }
   ],
   "source": [
    "#ans 01.\n",
    "x= input (str(\"\"))\n",
    "if len (x) < 2:\n",
    "    print (\"empty string\") \n",
    "else:\n",
    "    print(x[0:2]+x[-2:])"
   ]
  },
  {
   "cell_type": "code",
   "execution_count": 2,
   "metadata": {},
   "outputs": [
    {
     "name": "stdout",
     "output_type": "stream",
     "text": [
      "e\n",
      "empty string\n"
     ]
    }
   ],
   "source": [
    "x= input (str(\"\"))\n",
    "if len (x) < 2:\n",
    "    print (\"empty string\") \n",
    "else:\n",
    "    print(x[0:2]+x[-2:])"
   ]
  },
  {
   "cell_type": "code",
   "execution_count": 9,
   "metadata": {},
   "outputs": [
    {
     "data": {
      "text/plain": [
       "100"
      ]
     },
     "execution_count": 9,
     "metadata": {},
     "output_type": "execute_result"
    }
   ],
   "source": [
    "# 3\n",
    "x =[1,25,3,60,100,25,36,40,36,41]\n",
    "max(x)"
   ]
  },
  {
   "cell_type": "code",
   "execution_count": 3,
   "metadata": {},
   "outputs": [
    {
     "name": "stdout",
     "output_type": "stream",
     "text": [
      "[1, 22, 21, 36, 42, 12, 45, 100, 3, 'rahim', 'karim']\n"
     ]
    }
   ],
   "source": [
    "#4\n",
    "x=[1,22,21,22,36,36,42,12,1,45,100,12,1,3,'rahim', 'karim', 'rahim']\n",
    "unique_list=[]\n",
    "for i in x:\n",
    "    if i not in unique_list:\n",
    "        unique_list.append(i)\n",
    "print (unique_list)\n",
    "        "
   ]
  },
  {
   "cell_type": "code",
   "execution_count": 23,
   "metadata": {},
   "outputs": [
    {
     "name": "stdout",
     "output_type": "stream",
     "text": [
      "True\n",
      "True\n",
      "True\n"
     ]
    }
   ],
   "source": [
    "#5\n",
    "x= [1,2,3,4,5,6]\n",
    "y=[2,7,9,4,6]\n",
    "for i in x:\n",
    "    for j in y:\n",
    "        if i==j:\n",
    "            print('True')\n",
    "            \n",
    "#problem: found several True as i match with j several times, so how could I limit this printing of true only ones ..............."
   ]
  },
  {
   "cell_type": "code",
   "execution_count": 38,
   "metadata": {},
   "outputs": [
    {
     "name": "stdout",
     "output_type": "stream",
     "text": [
      "True\n"
     ]
    }
   ],
   "source": [
    "#5\n",
    "def com_data(x,y):\n",
    "    for i in x:\n",
    "        for j in y:\n",
    "            if i==j:\n",
    "               print ('True')\n",
    "          \n",
    "                \n",
    "        \n",
    "com_data([1,2,6],[1,9,4])\n",
    "\n",
    "# confusion in the function syntax..............\n"
   ]
  },
  {
   "cell_type": "code",
   "execution_count": 58,
   "metadata": {},
   "outputs": [
    {
     "name": "stdout",
     "output_type": "stream",
     "text": [
      "original dictionary= {'Math': 90, 'English': 80, 'Stat': 95, 'Chemistry': 75}\n",
      "sort by values(ascending)= [('Chemistry', 75), ('English', 80), ('Math', 90), ('Stat', 95)]\n",
      "sort by values(descending)= [('Stat', 95), ('Math', 90), ('English', 80), ('Chemistry', 75)]\n"
     ]
    }
   ],
   "source": [
    "#6 \n",
    "\n",
    "d={'Math':90, 'English': 80, 'Stat':95, 'Chemistry':75}\n",
    "\n",
    "#sort by keys:\n",
    "list1=sorted(d.items(),key=lambda x:x[0])\n",
    "list2=sorted(d.items(),key=lambda x:x[1])\n",
    "print(\"original dictionary=\",d)\n",
    "print(\"sort by values(ascending)=\",list2)\n",
    "list3=sorted(d.items(),key=lambda x:x[1],reverse=True)\n",
    "print(\"sort by values(descending)=\",list3)\n"
   ]
  },
  {
   "cell_type": "code",
   "execution_count": 64,
   "metadata": {},
   "outputs": [
    {
     "name": "stdout",
     "output_type": "stream",
     "text": [
      "sort by key(A to Z) = [('Chemistry', 75), ('English', 80), ('Math', 90), ('Stat', 95)]\n",
      "sort by key (Z to A) = [('Stat', 95), ('Math', 90), ('English', 80), ('Chemistry', 75)]\n"
     ]
    }
   ],
   "source": [
    "#8\n",
    "d={'Math':90, 'English': 80, 'Stat':95, 'Chemistry':75}\n",
    "list1=sorted(d.items(),key=lambda x:x[0])\n",
    "list2=sorted(d.items(),key=lambda x:x[0],reverse=True)\n",
    "print(\"sort by key(A to Z) =\",list1)\n",
    "print(\"sort by key (Z to A) =\",list2)\n"
   ]
  },
  {
   "cell_type": "code",
   "execution_count": 67,
   "metadata": {},
   "outputs": [
    {
     "name": "stdout",
     "output_type": "stream",
     "text": [
      "enter the subject nameMath\n",
      "key is present in the dictionary\n",
      "value : 90\n"
     ]
    }
   ],
   "source": [
    "#7\n",
    "d={'Math':90, 'English': 80, 'Stat':95, 'Chemistry':75}\n",
    "user_input=input('enter the subject name')\n",
    "if user_input in d.keys():\n",
    "    print ('key is present in the dictionary')\n",
    "    print ('value', ':',d[user_input])\n",
    "else:\n",
    "    print('key does not present in the dictionary')\n"
   ]
  },
  {
   "cell_type": "code",
   "execution_count": null,
   "metadata": {},
   "outputs": [],
   "source": []
  }
 ],
 "metadata": {
  "kernelspec": {
   "display_name": "Python 3",
   "language": "python",
   "name": "python3"
  },
  "language_info": {
   "codemirror_mode": {
    "name": "ipython",
    "version": 3
   },
   "file_extension": ".py",
   "mimetype": "text/x-python",
   "name": "python",
   "nbconvert_exporter": "python",
   "pygments_lexer": "ipython3",
   "version": "3.8.5"
  }
 },
 "nbformat": 4,
 "nbformat_minor": 4
}
